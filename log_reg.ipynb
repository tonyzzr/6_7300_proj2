{
 "cells": [
  {
   "cell_type": "code",
   "execution_count": 1,
   "metadata": {},
   "outputs": [],
   "source": [
    "import torch.nn as nn\n",
    "\n",
    "from model import NeuralNetModel, LogisticRegressionClassifier\n",
    "from dataset import PatientDataset, M1Imputation, M2Imputation\n",
    "from utils import UtilityFunction, RealOutcomesSimulator\n",
    "\n",
    "import torch\n",
    "import random\n",
    "import numpy as np\n",
    "\n",
    "import matplotlib.pyplot as plt\n"
   ]
  },
  {
   "cell_type": "code",
   "execution_count": 2,
   "metadata": {},
   "outputs": [
    {
     "name": "stdout",
     "output_type": "stream",
     "text": [
      "Train: 5000 patients\n",
      "Val: 5000 patients\n",
      "Test: 5000 patients\n",
      "global_mean_features.shape = (40,)\n"
     ]
    },
    {
     "name": "stderr",
     "output_type": "stream",
     "text": [
      "/home/maschine/Desktop/6_7300_proj2/dataset.py:70: RuntimeWarning: Mean of empty slice\n",
      "  patient_mean_features[patient_idx, :] = np.nanmean(x, axis=0)\n",
      "/home/maschine/Desktop/6_7300_proj2/dataset.py:78: RuntimeWarning: Mean of empty slice\n",
      "  global_mean_features = np.nanmean(patient_mean_features, axis=0)\n"
     ]
    },
    {
     "name": "stdout",
     "output_type": "stream",
     "text": [
      "global_mean_features.shape = (40,)\n",
      "global_mean_features.shape = (40,)\n"
     ]
    }
   ],
   "source": [
    "# Set the random seed for PyTorch\n",
    "seed = 42  # Choose any integer\n",
    "torch.manual_seed(seed)\n",
    "\n",
    "# If you're using a GPU\n",
    "torch.cuda.manual_seed(seed)\n",
    "torch.cuda.manual_seed_all(seed)  # If you use multiple GPUs\n",
    "\n",
    "# Set the random seed for Python's built-in random module\n",
    "random.seed(seed)\n",
    "\n",
    "# Set the random seed for NumPy\n",
    "np.random.seed(seed)\n",
    "\n",
    "# Ensure deterministic behavior for some operations\n",
    "torch.backends.cudnn.deterministic = True\n",
    "torch.backends.cudnn.benchmark = False\n",
    "\n",
    "dataset_train = PatientDataset.from_file(\"data/train.npz\")\n",
    "dataset_val = PatientDataset.from_file(\"data/val.npz\")\n",
    "dataset_test = PatientDataset.from_file(\"data/test.npz\")\n",
    "print(f\"Train: {len(dataset_train)} patients\")\n",
    "print(f\"Val: {len(dataset_val)} patients\")\n",
    "print(f\"Test: {len(dataset_test)} patients\")\n",
    "\n",
    "def data_imputation(datasets={}, method=M2Imputation):\n",
    "\n",
    "    imputed_datasets = {}\n",
    "    \n",
    "    for key in datasets.keys():\n",
    "        m = method(dataset=datasets[key])\n",
    "        imputed_datasets[key] = m.impute_dataset()\n",
    "\n",
    "    return imputed_datasets\n",
    "\n",
    "imputed_datasets = data_imputation(\n",
    "    datasets={\n",
    "        'train':dataset_train, 'val':dataset_val, 'test':dataset_test,\n",
    "    },\n",
    "    method=M2Imputation\n",
    ")\n"
   ]
  },
  {
   "cell_type": "code",
   "execution_count": 3,
   "metadata": {},
   "outputs": [],
   "source": [
    "from model import LRModel\n",
    "from sklearn.linear_model import LogisticRegression\n",
    "\n",
    "my_model = LRModel(model=LogisticRegression(\n",
    "    max_iter=100,\n",
    "))\n",
    "my_model.fit(\n",
    "    data = imputed_datasets['train']\n",
    ")"
   ]
  },
  {
   "cell_type": "code",
   "execution_count": 4,
   "metadata": {},
   "outputs": [
    {
     "name": "stderr",
     "output_type": "stream",
     "text": [
      "100%|██████████| 5000/5000 [00:07<00:00, 649.15it/s]"
     ]
    },
    {
     "name": "stdout",
     "output_type": "stream",
     "text": [
      " the utility achieved is: -6214.088888888887\n"
     ]
    },
    {
     "name": "stderr",
     "output_type": "stream",
     "text": [
      "\n"
     ]
    }
   ],
   "source": [
    "utility_fn = UtilityFunction()\n",
    "simulator_test = RealOutcomesSimulator(imputed_datasets['train'], utility_fn)\n",
    "# print(f\"\\nSimulating the hospitalization of patients in the test dataset with decisions made by your model, the utility achieved is: {simulator_test.compute_utility(my_model)}\")\n",
    "utility = simulator_test.compute_utility(my_model)\n",
    "print(f\" the utility achieved is: {utility['u_total']}\")"
   ]
  },
  {
   "cell_type": "code",
   "execution_count": 5,
   "metadata": {},
   "outputs": [
    {
     "data": {
      "image/png": "[encoded data removed]",
      "text/plain": [
       "<Figure size 500x300 with 1 Axes>"
      ]
     },
     "metadata": {},
     "output_type": "display_data"
    },
    {
     "data": {
      "image/png": "[encoded data removed]",
      "text/plain": [
       "<Figure size 300x800 with 2 Axes>"
      ]
     },
     "metadata": {},
     "output_type": "display_data"
    }
   ],
   "source": [
    "patient_idx = 0\n",
    "\n",
    "fig, ax = plt.subplots(1,1, figsize=(5, 3))\n",
    "\n",
    "ax.plot(utility['preds'][patient_idx], '.', label='predict')\n",
    "ax.plot(imputed_datasets['train'][patient_idx][1], '.', label='gt')\n",
    "plt.legend()\n",
    "plt.show()\n",
    "\n",
    "from visualize_data import plot_data_heatmap\n",
    "\n",
    "plot_data_heatmap(imputed_datasets['train'], patient_no=patient_idx)"
   ]
  },
  {
   "cell_type": "code",
   "execution_count": 6,
   "metadata": {},
   "outputs": [],
   "source": [
    "# my_model = NeuralNetModel()\n",
    "# device = 'cuda'\n",
    "# my_model.fit(\n",
    "#     train_data = imputed_datasets['train'],\n",
    "#     val_data = imputed_datasets['val'],\n",
    "#     config = {\n",
    "#     'classifer':LogisticRegressionClassifier,\n",
    "#     'lr':1e-3, \n",
    "#     'criteria':nn.BCELoss(), \n",
    "#     'n_epoch':10,\n",
    "#     'batch_size':128,\n",
    "#     'device':device,\n",
    "#     })\n",
    "\n",
    "# utility_fn = UtilityFunction()\n",
    "# simulator_test = RealOutcomesSimulator(imputed_datasets['train'], utility_fn)\n",
    "# # print(f\"\\nSimulating the hospitalization of patients in the test dataset with decisions made by your model, the utility achieved is: {simulator_test.compute_utility(my_model)}\")\n",
    "# utility = simulator_test.compute_utility(my_model)\n",
    "# print(f\" the utility achieved is: {utility['u_total']}\")"
   ]
  },
  {
   "cell_type": "code",
   "execution_count": 7,
   "metadata": {},
   "outputs": [],
   "source": [
    "# from loss import CustomBCELoss\n",
    "\n",
    "# my_model = NeuralNetModel()\n",
    "# device = 'cuda'\n",
    "# my_model.fit(\n",
    "#     train_data = imputed_datasets['train'],\n",
    "#     val_data = imputed_datasets['val'],\n",
    "#     config = {\n",
    "#     'classifer':LogisticRegressionClassifier,\n",
    "#     'lr':1e-2, \n",
    "#     'criteria':CustomBCELoss(scale_factor=5), \n",
    "#     'n_epoch':10,\n",
    "#     'batch_size':128,\n",
    "#     'device':device,\n",
    "#     })\n",
    "\n",
    "# utility_fn = UtilityFunction()\n",
    "# simulator_test = RealOutcomesSimulator(imputed_datasets['train'], utility_fn)\n",
    "# # print(f\"\\nSimulating the hospitalization of patients in the test dataset with decisions made by your model, the utility achieved is: {simulator_test.compute_utility(my_model)}\")\n",
    "# utility = simulator_test.compute_utility(my_model)\n",
    "# print(f\" the utility achieved is: {utility['u_total']}\")"
   ]
  },
  {
   "cell_type": "code",
   "execution_count": 8,
   "metadata": {},
   "outputs": [],
   "source": [
    "# from model import MLP\n",
    "\n",
    "# from loss import CustomBCELoss\n",
    "\n",
    "# my_model = NeuralNetModel()\n",
    "# device = 'cuda'\n",
    "# my_model.fit(\n",
    "#     train_data = imputed_datasets['train'],\n",
    "#     val_data = imputed_datasets['val'],\n",
    "#     config = {\n",
    "#     'classifer':MLP,\n",
    "#     'lr':1e-2, \n",
    "#     'criteria':CustomBCELoss(scale_factor=5), \n",
    "#     'n_epoch':10,\n",
    "#     'batch_size':128,\n",
    "#     'device':device,\n",
    "#     })\n",
    "\n",
    "# utility_fn = UtilityFunction()\n",
    "# simulator_test = RealOutcomesSimulator(imputed_datasets['train'], utility_fn)\n",
    "# # print(f\"\\nSimulating the hospitalization of patients in the test dataset with decisions made by your model, the utility achieved is: {simulator_test.compute_utility(my_model)}\")\n",
    "# utility = simulator_test.compute_utility(my_model)\n",
    "# print(f\" the utility achieved is: {utility['u_total']}\")\n"
   ]
  },
  {
   "cell_type": "code",
   "execution_count": 9,
   "metadata": {},
   "outputs": [
    {
     "data": {
      "text/plain": [
       "{'train': <dataset.PatientDataset at 0x7f9f87310850>,\n",
       " 'val': <dataset.PatientDataset at 0x7f9f871d3150>,\n",
       " 'test': <dataset.PatientDataset at 0x7f9f8709da10>}"
      ]
     },
     "execution_count": 9,
     "metadata": {},
     "output_type": "execute_result"
    }
   ],
   "source": [
    "imputed_datasets"
   ]
  },
  {
   "cell_type": "code",
   "execution_count": 10,
   "metadata": {},
   "outputs": [
    {
     "name": "stdout",
     "output_type": "stream",
     "text": [
      "[0. 0. 0. 0. 0. 0. 0. 0. 0. 0. 0. 0. 0. 0. 0. 0. 0. 0. 0. 0. 0. 0. 0. 0.\n",
      " 0.]\n"
     ]
    }
   ],
   "source": [
    "for x, y in imputed_datasets['train']:\n",
    "    print(y)\n",
    "    break"
   ]
  },
  {
   "cell_type": "code",
   "execution_count": 11,
   "metadata": {},
   "outputs": [
    {
     "name": "stdout",
     "output_type": "stream",
     "text": [
      "input_dim = 241\n"
     ]
    },
    {
     "name": "stderr",
     "output_type": "stream",
     "text": [
      "  0%|          | 0/50 [00:00<?, ?it/s]"
     ]
    },
    {
     "name": "stdout",
     "output_type": "stream",
     "text": [
      "Epoch [1/50], Training Loss: -16170.4939, Val Loss: -203.1078\n",
      "confusion matrix: {'TP': 52230, 'TN': 33561, 'FP': 63075, 'FN': 44640}\n"
     ]
    },
    {
     "name": "stderr",
     "output_type": "stream",
     "text": [
      "100%|██████████| 5000/5000 [00:23<00:00, 208.77it/s]\n",
      "  2%|▏         | 1/50 [00:36<30:07, 36.90s/it]"
     ]
    },
    {
     "name": "stdout",
     "output_type": "stream",
     "text": [
      " the utility achieved is: -2803.5166666666646\n",
      "Epoch [2/50], Training Loss: -17763.1602, Val Loss: -188.4451\n",
      "confusion matrix: {'TP': 31564, 'TN': 58144, 'FP': 38795, 'FN': 65003}\n"
     ]
    },
    {
     "name": "stderr",
     "output_type": "stream",
     "text": [
      "100%|██████████| 5000/5000 [00:23<00:00, 212.85it/s]\n",
      "  4%|▍         | 2/50 [01:13<29:14, 36.56s/it]"
     ]
    },
    {
     "name": "stdout",
     "output_type": "stream",
     "text": [
      " the utility achieved is: -2775.183333333332\n",
      "Epoch [3/50], Training Loss: -17896.2820, Val Loss: -211.5381\n",
      "confusion matrix: {'TP': 31794, 'TN': 62030, 'FP': 34493, 'FN': 65189}\n"
     ]
    },
    {
     "name": "stderr",
     "output_type": "stream",
     "text": [
      "100%|██████████| 5000/5000 [00:24<00:00, 207.90it/s]\n",
      "  6%|▌         | 3/50 [01:49<28:40, 36.60s/it]"
     ]
    },
    {
     "name": "stdout",
     "output_type": "stream",
     "text": [
      " the utility achieved is: -2763.499999999999\n",
      "Epoch [4/50], Training Loss: -17992.2052, Val Loss: -83.8754\n",
      "confusion matrix: {'TP': 31910, 'TN': 62990, 'FP': 33755, 'FN': 64851}\n"
     ]
    },
    {
     "name": "stderr",
     "output_type": "stream",
     "text": [
      "100%|██████████| 5000/5000 [00:23<00:00, 211.96it/s]\n",
      "  8%|▊         | 4/50 [02:26<27:56, 36.45s/it]"
     ]
    },
    {
     "name": "stdout",
     "output_type": "stream",
     "text": [
      " the utility achieved is: -2757.594444444443\n",
      "Epoch [5/50], Training Loss: -17843.6390, Val Loss: -177.4151\n",
      "confusion matrix: {'TP': 31463, 'TN': 65397, 'FP': 31121, 'FN': 65525}\n"
     ]
    },
    {
     "name": "stderr",
     "output_type": "stream",
     "text": [
      "100%|██████████| 5000/5000 [00:23<00:00, 209.02it/s]\n",
      " 10%|█         | 5/50 [03:02<27:26, 36.58s/it]"
     ]
    },
    {
     "name": "stdout",
     "output_type": "stream",
     "text": [
      " the utility achieved is: -2681.7722222222196\n",
      "Epoch [6/50], Training Loss: -17891.3803, Val Loss: -184.9240\n",
      "confusion matrix: {'TP': 31726, 'TN': 58886, 'FP': 37721, 'FN': 65173}\n"
     ]
    },
    {
     "name": "stderr",
     "output_type": "stream",
     "text": [
      "100%|██████████| 5000/5000 [00:23<00:00, 210.14it/s]\n",
      " 12%|█▏        | 6/50 [03:39<26:51, 36.63s/it]"
     ]
    },
    {
     "name": "stdout",
     "output_type": "stream",
     "text": [
      " the utility achieved is: -2687.7222222222204\n",
      "Epoch [7/50], Training Loss: -17878.7944, Val Loss: -196.6104\n",
      "confusion matrix: {'TP': 31576, 'TN': 55767, 'FP': 40549, 'FN': 65614}\n"
     ]
    },
    {
     "name": "stderr",
     "output_type": "stream",
     "text": [
      "100%|██████████| 5000/5000 [00:23<00:00, 211.76it/s]\n",
      " 14%|█▍        | 7/50 [04:16<26:14, 36.62s/it]"
     ]
    },
    {
     "name": "stdout",
     "output_type": "stream",
     "text": [
      " the utility achieved is: -2679.8722222222204\n",
      "Epoch [8/50], Training Loss: -17917.6660, Val Loss: -131.4977\n",
      "confusion matrix: {'TP': 31382, 'TN': 66193, 'FP': 30454, 'FN': 65477}\n"
     ]
    },
    {
     "name": "stderr",
     "output_type": "stream",
     "text": [
      "100%|██████████| 5000/5000 [00:23<00:00, 211.47it/s]\n",
      " 16%|█▌        | 8/50 [04:52<25:40, 36.67s/it]"
     ]
    },
    {
     "name": "stdout",
     "output_type": "stream",
     "text": [
      " the utility achieved is: -2682.7222222222204\n",
      "Epoch [9/50], Training Loss: -18043.6924, Val Loss: -116.3414\n",
      "confusion matrix: {'TP': 31664, 'TN': 62243, 'FP': 34462, 'FN': 65137}\n"
     ]
    },
    {
     "name": "stderr",
     "output_type": "stream",
     "text": [
      "100%|██████████| 5000/5000 [00:23<00:00, 209.01it/s]\n",
      " 18%|█▊        | 9/50 [05:29<25:04, 36.68s/it]"
     ]
    },
    {
     "name": "stdout",
     "output_type": "stream",
     "text": [
      " the utility achieved is: -2681.5722222222207\n",
      "Epoch [10/50], Training Loss: -17801.6604, Val Loss: -0.8436\n",
      "confusion matrix: {'TP': 31119, 'TN': 69105, 'FP': 27904, 'FN': 65378}\n"
     ]
    },
    {
     "name": "stderr",
     "output_type": "stream",
     "text": [
      "100%|██████████| 5000/5000 [00:23<00:00, 209.47it/s]\n",
      " 20%|██        | 10/50 [06:06<24:32, 36.81s/it]"
     ]
    },
    {
     "name": "stdout",
     "output_type": "stream",
     "text": [
      " the utility achieved is: -2679.9722222222204\n",
      "Epoch [11/50], Training Loss: -17781.3979, Val Loss: 12.1443\n",
      "confusion matrix: {'TP': 31124, 'TN': 69890, 'FP': 26925, 'FN': 65567}\n"
     ]
    },
    {
     "name": "stderr",
     "output_type": "stream",
     "text": [
      "100%|██████████| 5000/5000 [00:23<00:00, 209.98it/s]\n",
      " 22%|██▏       | 11/50 [06:43<23:55, 36.82s/it]"
     ]
    },
    {
     "name": "stdout",
     "output_type": "stream",
     "text": [
      " the utility achieved is: -2678.2222222222204\n",
      "Epoch [12/50], Training Loss: -17891.6228, Val Loss: 28.4422\n",
      "confusion matrix: {'TP': 31357, 'TN': 69588, 'FP': 27613, 'FN': 64948}\n"
     ]
    },
    {
     "name": "stderr",
     "output_type": "stream",
     "text": [
      "100%|██████████| 5000/5000 [00:23<00:00, 210.32it/s]\n",
      " 24%|██▍       | 12/50 [07:20<23:18, 36.80s/it]"
     ]
    },
    {
     "name": "stdout",
     "output_type": "stream",
     "text": [
      " the utility achieved is: -2678.2222222222204\n",
      "Epoch [13/50], Training Loss: -17852.6647, Val Loss: -69.9937\n",
      "confusion matrix: {'TP': 32055, 'TN': 57517, 'FP': 39297, 'FN': 64637}\n"
     ]
    },
    {
     "name": "stderr",
     "output_type": "stream",
     "text": [
      "100%|██████████| 5000/5000 [00:23<00:00, 209.42it/s]\n",
      " 26%|██▌       | 13/50 [07:57<22:41, 36.80s/it]"
     ]
    },
    {
     "name": "stdout",
     "output_type": "stream",
     "text": [
      " the utility achieved is: -2684.5222222222205\n",
      "Epoch [14/50], Training Loss: -17797.5239, Val Loss: -106.9941\n",
      "confusion matrix: {'TP': 31339, 'TN': 61418, 'FP': 35182, 'FN': 65567}\n"
     ]
    },
    {
     "name": "stderr",
     "output_type": "stream",
     "text": [
      "100%|██████████| 5000/5000 [00:23<00:00, 210.72it/s]\n",
      " 28%|██▊       | 14/50 [08:33<22:02, 36.75s/it]"
     ]
    },
    {
     "name": "stdout",
     "output_type": "stream",
     "text": [
      " the utility achieved is: -2679.3722222222204\n",
      "Epoch [15/50], Training Loss: -17602.4375, Val Loss: -120.6823\n",
      "confusion matrix: {'TP': 31437, 'TN': 59640, 'FP': 37501, 'FN': 64928}\n"
     ]
    },
    {
     "name": "stderr",
     "output_type": "stream",
     "text": [
      "100%|██████████| 5000/5000 [00:23<00:00, 212.39it/s]\n",
      " 30%|███       | 15/50 [09:10<21:21, 36.62s/it]"
     ]
    },
    {
     "name": "stdout",
     "output_type": "stream",
     "text": [
      " the utility achieved is: -2708.388888888887\n",
      "Epoch [16/50], Training Loss: -17685.6074, Val Loss: -118.4580\n",
      "confusion matrix: {'TP': 31137, 'TN': 57978, 'FP': 38793, 'FN': 65598}\n"
     ]
    },
    {
     "name": "stderr",
     "output_type": "stream",
     "text": [
      "100%|██████████| 5000/5000 [00:23<00:00, 214.70it/s]\n",
      " 32%|███▏      | 16/50 [09:46<20:38, 36.44s/it]"
     ]
    },
    {
     "name": "stdout",
     "output_type": "stream",
     "text": [
      " the utility achieved is: -2711.988888888887\n",
      "Epoch [17/50], Training Loss: -17940.7724, Val Loss: 14.4743\n",
      "confusion matrix: {'TP': 31405, 'TN': 65037, 'FP': 31664, 'FN': 65400}\n"
     ]
    },
    {
     "name": "stderr",
     "output_type": "stream",
     "text": [
      "100%|██████████| 5000/5000 [00:23<00:00, 210.85it/s]\n",
      " 34%|███▍      | 17/50 [10:22<20:03, 36.47s/it]"
     ]
    },
    {
     "name": "stdout",
     "output_type": "stream",
     "text": [
      " the utility achieved is: -2694.738888888887\n",
      "Epoch [18/50], Training Loss: -17851.1092, Val Loss: -37.7761\n",
      "confusion matrix: {'TP': 31173, 'TN': 65839, 'FP': 30696, 'FN': 65798}\n"
     ]
    },
    {
     "name": "stderr",
     "output_type": "stream",
     "text": [
      "100%|██████████| 5000/5000 [00:23<00:00, 213.72it/s]\n",
      " 36%|███▌      | 18/50 [10:58<19:24, 36.38s/it]"
     ]
    },
    {
     "name": "stdout",
     "output_type": "stream",
     "text": [
      " the utility achieved is: -2670.46111111111\n",
      "Epoch [19/50], Training Loss: -17924.5951, Val Loss: -3.2488\n",
      "confusion matrix: {'TP': 31225, 'TN': 64035, 'FP': 32941, 'FN': 65305}\n"
     ]
    },
    {
     "name": "stderr",
     "output_type": "stream",
     "text": [
      " 11%|█         | 562/5000 [00:02<00:21, 202.60it/s]\n",
      " 36%|███▌      | 18/50 [11:14<19:59, 37.48s/it]\n"
     ]
    },
    {
     "ename": "KeyboardInterrupt",
     "evalue": "",
     "output_type": "error",
     "traceback": [
      "\u001b[0;31m---------------------------------------------------------------------------\u001b[0m",
      "\u001b[0;31mKeyboardInterrupt\u001b[0m                         Traceback (most recent call last)",
      "Cell \u001b[0;32mIn[11], line 7\u001b[0m\n\u001b[1;32m      5\u001b[0m my_model \u001b[38;5;241m=\u001b[39m NeuralNetModel()\n\u001b[1;32m      6\u001b[0m device \u001b[38;5;241m=\u001b[39m \u001b[38;5;124m'\u001b[39m\u001b[38;5;124mcuda\u001b[39m\u001b[38;5;124m'\u001b[39m\n\u001b[0;32m----> 7\u001b[0m my_model\u001b[38;5;241m.\u001b[39mfit(\n\u001b[1;32m      8\u001b[0m     \u001b[38;5;66;03m# train_data = imputed_datasets['train'],\u001b[39;00m\n\u001b[1;32m      9\u001b[0m     \u001b[38;5;66;03m# val_data = imputed_datasets['val'],\u001b[39;00m\n\u001b[1;32m     10\u001b[0m     data \u001b[38;5;241m=\u001b[39m imputed_datasets,\n\u001b[1;32m     11\u001b[0m     config \u001b[38;5;241m=\u001b[39m {\n\u001b[1;32m     12\u001b[0m     \u001b[38;5;124m'\u001b[39m\u001b[38;5;124mclassifer\u001b[39m\u001b[38;5;124m'\u001b[39m:EnhancedMLP,\n\u001b[1;32m     13\u001b[0m     \u001b[38;5;124m'\u001b[39m\u001b[38;5;124mlr\u001b[39m\u001b[38;5;124m'\u001b[39m:\u001b[38;5;241m1e-3\u001b[39m, \n\u001b[1;32m     14\u001b[0m     \u001b[38;5;124m'\u001b[39m\u001b[38;5;124mcriteria\u001b[39m\u001b[38;5;124m'\u001b[39m:UtilityLoss(), \n\u001b[1;32m     15\u001b[0m     \u001b[38;5;124m'\u001b[39m\u001b[38;5;124mn_epoch\u001b[39m\u001b[38;5;124m'\u001b[39m:\u001b[38;5;241m50\u001b[39m,\n\u001b[1;32m     16\u001b[0m     \u001b[38;5;124m'\u001b[39m\u001b[38;5;124mbatch_size\u001b[39m\u001b[38;5;124m'\u001b[39m:\u001b[38;5;241m512\u001b[39m,\n\u001b[1;32m     17\u001b[0m     \u001b[38;5;124m'\u001b[39m\u001b[38;5;124mdevice\u001b[39m\u001b[38;5;124m'\u001b[39m:device,\n\u001b[1;32m     18\u001b[0m     \u001b[38;5;124m'\u001b[39m\u001b[38;5;124mclass_balanced\u001b[39m\u001b[38;5;124m'\u001b[39m:\u001b[38;5;28;01mTrue\u001b[39;00m,\n\u001b[1;32m     19\u001b[0m     })\n\u001b[1;32m     21\u001b[0m utility_fn \u001b[38;5;241m=\u001b[39m UtilityFunction()\n\u001b[1;32m     22\u001b[0m simulator_test \u001b[38;5;241m=\u001b[39m RealOutcomesSimulator(imputed_datasets[\u001b[38;5;124m'\u001b[39m\u001b[38;5;124mtrain\u001b[39m\u001b[38;5;124m'\u001b[39m], utility_fn)\n",
      "File \u001b[0;32m~/Desktop/6_7300_proj2/model.py:379\u001b[0m, in \u001b[0;36mNeuralNetModel.fit\u001b[0;34m(self, data, config)\u001b[0m\n\u001b[1;32m    376\u001b[0m     \u001b[38;5;28mprint\u001b[39m(\u001b[38;5;124mf\u001b[39m\u001b[38;5;124m\"\u001b[39m\u001b[38;5;124mEpoch [\u001b[39m\u001b[38;5;132;01m{\u001b[39;00mepoch\u001b[38;5;241m+\u001b[39m\u001b[38;5;241m1\u001b[39m\u001b[38;5;132;01m}\u001b[39;00m\u001b[38;5;124m/\u001b[39m\u001b[38;5;132;01m{\u001b[39;00mconfig[\u001b[38;5;124m'\u001b[39m\u001b[38;5;124mn_epoch\u001b[39m\u001b[38;5;124m'\u001b[39m]\u001b[38;5;132;01m}\u001b[39;00m\u001b[38;5;124m], Training Loss: \u001b[39m\u001b[38;5;132;01m{\u001b[39;00m\u001b[38;5;28mself\u001b[39m\u001b[38;5;241m.\u001b[39mloss_hist[\u001b[38;5;241m-\u001b[39m\u001b[38;5;241m1\u001b[39m][\u001b[38;5;124m'\u001b[39m\u001b[38;5;124mtrain\u001b[39m\u001b[38;5;124m'\u001b[39m]\u001b[38;5;132;01m:\u001b[39;00m\u001b[38;5;124m.4f\u001b[39m\u001b[38;5;132;01m}\u001b[39;00m\u001b[38;5;124m, Val Loss: \u001b[39m\u001b[38;5;132;01m{\u001b[39;00m\u001b[38;5;28mself\u001b[39m\u001b[38;5;241m.\u001b[39mloss_hist[\u001b[38;5;241m-\u001b[39m\u001b[38;5;241m1\u001b[39m][\u001b[38;5;124m'\u001b[39m\u001b[38;5;124mval\u001b[39m\u001b[38;5;124m'\u001b[39m]\u001b[38;5;132;01m:\u001b[39;00m\u001b[38;5;124m.4f\u001b[39m\u001b[38;5;132;01m}\u001b[39;00m\u001b[38;5;124m\"\u001b[39m)\n\u001b[1;32m    377\u001b[0m     \u001b[38;5;28mprint\u001b[39m(\u001b[38;5;124mf\u001b[39m\u001b[38;5;124m\"\u001b[39m\u001b[38;5;124mconfusion matrix: \u001b[39m\u001b[38;5;132;01m{\u001b[39;00m\u001b[38;5;28mself\u001b[39m\u001b[38;5;241m.\u001b[39mloss_hist[\u001b[38;5;241m-\u001b[39m\u001b[38;5;241m1\u001b[39m][\u001b[38;5;124m'\u001b[39m\u001b[38;5;124mcm\u001b[39m\u001b[38;5;124m'\u001b[39m]\u001b[38;5;132;01m}\u001b[39;00m\u001b[38;5;124m\"\u001b[39m)\n\u001b[0;32m--> 379\u001b[0m     \u001b[38;5;28mself\u001b[39m\u001b[38;5;241m.\u001b[39mtest_utility()\n\u001b[1;32m    381\u001b[0m \u001b[38;5;28mprint\u001b[39m(\u001b[38;5;124m\"\u001b[39m\u001b[38;5;124mTraining complete.\u001b[39m\u001b[38;5;124m\"\u001b[39m)\n",
      "File \u001b[0;32m~/Desktop/6_7300_proj2/model.py:474\u001b[0m, in \u001b[0;36mNeuralNetModel.test_utility\u001b[0;34m(self)\u001b[0m\n\u001b[1;32m    471\u001b[0m utility_fn \u001b[38;5;241m=\u001b[39m UtilityFunction()\n\u001b[1;32m    472\u001b[0m simulator_test \u001b[38;5;241m=\u001b[39m RealOutcomesSimulator(\u001b[38;5;28mself\u001b[39m\u001b[38;5;241m.\u001b[39mdata[\u001b[38;5;124m'\u001b[39m\u001b[38;5;124mtest\u001b[39m\u001b[38;5;124m'\u001b[39m], utility_fn)\n\u001b[0;32m--> 474\u001b[0m utility \u001b[38;5;241m=\u001b[39m simulator_test\u001b[38;5;241m.\u001b[39mcompute_utility(\u001b[38;5;28mself\u001b[39m)\n\u001b[1;32m    475\u001b[0m \u001b[38;5;28mprint\u001b[39m(\u001b[38;5;124mf\u001b[39m\u001b[38;5;124m\"\u001b[39m\u001b[38;5;124m the utility achieved is: \u001b[39m\u001b[38;5;132;01m{\u001b[39;00mutility[\u001b[38;5;124m'\u001b[39m\u001b[38;5;124mu_total\u001b[39m\u001b[38;5;124m'\u001b[39m]\u001b[38;5;132;01m}\u001b[39;00m\u001b[38;5;124m\"\u001b[39m)\n\u001b[1;32m    477\u001b[0m \u001b[38;5;28;01mreturn\u001b[39;00m\n",
      "File \u001b[0;32m~/Desktop/6_7300_proj2/utils.py:122\u001b[0m, in \u001b[0;36mRealOutcomesSimulator.compute_utility\u001b[0;34m(self, model)\u001b[0m\n\u001b[1;32m    118\u001b[0m     y_pred \u001b[38;5;241m=\u001b[39m model\u001b[38;5;241m.\u001b[39mpredict(x[:t\u001b[38;5;241m+\u001b[39m\u001b[38;5;241m1\u001b[39m])\n\u001b[1;32m    120\u001b[0m preds\u001b[38;5;241m.\u001b[39mappend(y_pred)\n\u001b[0;32m--> 122\u001b[0m _cm \u001b[38;5;241m=\u001b[39m confusion_matrix(y_pred, y[t])\n\u001b[1;32m    123\u001b[0m \u001b[38;5;28;01mfor\u001b[39;00m key \u001b[38;5;129;01min\u001b[39;00m _cm:\n\u001b[1;32m    124\u001b[0m     utility[\u001b[38;5;124m'\u001b[39m\u001b[38;5;124mcm\u001b[39m\u001b[38;5;124m'\u001b[39m][key] \u001b[38;5;241m+\u001b[39m\u001b[38;5;241m=\u001b[39m _cm[key]\n",
      "File \u001b[0;32m~/Desktop/6_7300_proj2/utils.py:141\u001b[0m, in \u001b[0;36mconfusion_matrix\u001b[0;34m(y_pred_binary, y_binary)\u001b[0m\n\u001b[1;32m    135\u001b[0m \u001b[38;5;28;01mdef\u001b[39;00m \u001b[38;5;21mconfusion_matrix\u001b[39m(y_pred_binary, y_binary):\n\u001b[1;32m    137\u001b[0m     cm_epoch \u001b[38;5;241m=\u001b[39m {\n\u001b[1;32m    138\u001b[0m                 \u001b[38;5;124m'\u001b[39m\u001b[38;5;124mTP\u001b[39m\u001b[38;5;124m'\u001b[39m:\u001b[38;5;241m0\u001b[39m, \u001b[38;5;124m'\u001b[39m\u001b[38;5;124mTN\u001b[39m\u001b[38;5;124m'\u001b[39m:\u001b[38;5;241m0\u001b[39m, \u001b[38;5;124m'\u001b[39m\u001b[38;5;124mFP\u001b[39m\u001b[38;5;124m'\u001b[39m:\u001b[38;5;241m0\u001b[39m, \u001b[38;5;124m'\u001b[39m\u001b[38;5;124mFN\u001b[39m\u001b[38;5;124m'\u001b[39m:\u001b[38;5;241m0\u001b[39m,\n\u001b[1;32m    139\u001b[0m             }\n\u001b[0;32m--> 141\u001b[0m     TP \u001b[38;5;241m=\u001b[39m np\u001b[38;5;241m.\u001b[39msum((y_binary\u001b[38;5;241m==\u001b[39m\u001b[38;5;241m1\u001b[39m) \u001b[38;5;241m&\u001b[39m (y_pred_binary \u001b[38;5;241m==\u001b[39m \u001b[38;5;241m1\u001b[39m))\n\u001b[1;32m    142\u001b[0m     TN \u001b[38;5;241m=\u001b[39m np\u001b[38;5;241m.\u001b[39msum((y_binary\u001b[38;5;241m==\u001b[39m\u001b[38;5;241m0\u001b[39m) \u001b[38;5;241m&\u001b[39m (y_pred_binary \u001b[38;5;241m==\u001b[39m \u001b[38;5;241m0\u001b[39m))\n\u001b[1;32m    144\u001b[0m     FP \u001b[38;5;241m=\u001b[39m np\u001b[38;5;241m.\u001b[39msum((y_binary\u001b[38;5;241m==\u001b[39m\u001b[38;5;241m0\u001b[39m) \u001b[38;5;241m&\u001b[39m (y_pred_binary \u001b[38;5;241m==\u001b[39m \u001b[38;5;241m1\u001b[39m))\n",
      "File \u001b[0;32m~/miniconda3/envs/found4useg/lib/python3.11/site-packages/numpy/core/fromnumeric.py:2172\u001b[0m, in \u001b[0;36m_sum_dispatcher\u001b[0;34m(a, axis, dtype, out, keepdims, initial, where)\u001b[0m\n\u001b[1;32m   2102\u001b[0m \u001b[38;5;250m    \u001b[39m\u001b[38;5;124;03m\"\"\"\u001b[39;00m\n\u001b[1;32m   2103\u001b[0m \u001b[38;5;124;03m    Clip (limit) the values in an array.\u001b[39;00m\n\u001b[1;32m   2104\u001b[0m \n\u001b[0;32m   (...)\u001b[0m\n\u001b[1;32m   2167\u001b[0m \n\u001b[1;32m   2168\u001b[0m \u001b[38;5;124;03m    \"\"\"\u001b[39;00m\n\u001b[1;32m   2169\u001b[0m     \u001b[38;5;28;01mreturn\u001b[39;00m _wrapfunc(a, \u001b[38;5;124m'\u001b[39m\u001b[38;5;124mclip\u001b[39m\u001b[38;5;124m'\u001b[39m, a_min, a_max, out\u001b[38;5;241m=\u001b[39mout, \u001b[38;5;241m*\u001b[39m\u001b[38;5;241m*\u001b[39mkwargs)\n\u001b[0;32m-> 2172\u001b[0m \u001b[38;5;28;01mdef\u001b[39;00m \u001b[38;5;21m_sum_dispatcher\u001b[39m(a, axis\u001b[38;5;241m=\u001b[39m\u001b[38;5;28;01mNone\u001b[39;00m, dtype\u001b[38;5;241m=\u001b[39m\u001b[38;5;28;01mNone\u001b[39;00m, out\u001b[38;5;241m=\u001b[39m\u001b[38;5;28;01mNone\u001b[39;00m, keepdims\u001b[38;5;241m=\u001b[39m\u001b[38;5;28;01mNone\u001b[39;00m,\n\u001b[1;32m   2173\u001b[0m                     initial\u001b[38;5;241m=\u001b[39m\u001b[38;5;28;01mNone\u001b[39;00m, where\u001b[38;5;241m=\u001b[39m\u001b[38;5;28;01mNone\u001b[39;00m):\n\u001b[1;32m   2174\u001b[0m     \u001b[38;5;28;01mreturn\u001b[39;00m (a, out)\n\u001b[1;32m   2177\u001b[0m \u001b[38;5;129m@array_function_dispatch\u001b[39m(_sum_dispatcher)\n\u001b[1;32m   2178\u001b[0m \u001b[38;5;28;01mdef\u001b[39;00m \u001b[38;5;21msum\u001b[39m(a, axis\u001b[38;5;241m=\u001b[39m\u001b[38;5;28;01mNone\u001b[39;00m, dtype\u001b[38;5;241m=\u001b[39m\u001b[38;5;28;01mNone\u001b[39;00m, out\u001b[38;5;241m=\u001b[39m\u001b[38;5;28;01mNone\u001b[39;00m, keepdims\u001b[38;5;241m=\u001b[39mnp\u001b[38;5;241m.\u001b[39m_NoValue,\n\u001b[1;32m   2179\u001b[0m         initial\u001b[38;5;241m=\u001b[39mnp\u001b[38;5;241m.\u001b[39m_NoValue, where\u001b[38;5;241m=\u001b[39mnp\u001b[38;5;241m.\u001b[39m_NoValue):\n",
      "\u001b[0;31mKeyboardInterrupt\u001b[0m: "
     ]
    }
   ],
   "source": []
  },
  {
   "cell_type": "code",
   "execution_count": 9,
   "metadata": {},
   "outputs": [
    {
     "name": "stdout",
     "output_type": "stream",
     "text": [
      "input_dim = 240\n"
     ]
    },
    {
     "name": "stderr",
     "output_type": "stream",
     "text": [
      "  2%|▏         | 1/50 [00:01<01:28,  1.81s/it]"
     ]
    },
    {
     "name": "stdout",
     "output_type": "stream",
     "text": [
      "Epoch [1/50], Training Loss: 0.1743, Val Loss: 0.2779\n",
      "confusion matrix: {'TP': 82862, 'TN': 89954, 'FP': 6665, 'FN': 14025}\n"
     ]
    },
    {
     "name": "stderr",
     "output_type": "stream",
     "text": [
      "  4%|▍         | 2/50 [00:03<01:24,  1.77s/it]"
     ]
    },
    {
     "name": "stdout",
     "output_type": "stream",
     "text": [
      "Epoch [2/50], Training Loss: 0.0692, Val Loss: 0.3506\n",
      "confusion matrix: {'TP': 94389, 'TN': 93698, 'FP': 3301, 'FN': 2118}\n"
     ]
    },
    {
     "name": "stderr",
     "output_type": "stream",
     "text": [
      "  6%|▌         | 3/50 [00:05<01:22,  1.75s/it]"
     ]
    },
    {
     "name": "stdout",
     "output_type": "stream",
     "text": [
      "Epoch [3/50], Training Loss: 0.0546, Val Loss: 0.3924\n",
      "confusion matrix: {'TP': 95487, 'TN': 94098, 'FP': 2400, 'FN': 1521}\n"
     ]
    },
    {
     "name": "stderr",
     "output_type": "stream",
     "text": [
      "  8%|▊         | 4/50 [00:07<01:20,  1.74s/it]"
     ]
    },
    {
     "name": "stdout",
     "output_type": "stream",
     "text": [
      "Epoch [4/50], Training Loss: 0.0433, Val Loss: 0.4094\n",
      "confusion matrix: {'TP': 95509, 'TN': 94820, 'FP': 1919, 'FN': 1258}\n"
     ]
    },
    {
     "name": "stderr",
     "output_type": "stream",
     "text": [
      " 10%|█         | 5/50 [00:08<01:17,  1.73s/it]"
     ]
    },
    {
     "name": "stdout",
     "output_type": "stream",
     "text": [
      "Epoch [5/50], Training Loss: 0.0415, Val Loss: 0.4068\n",
      "confusion matrix: {'TP': 95833, 'TN': 94822, 'FP': 1707, 'FN': 1144}\n"
     ]
    },
    {
     "name": "stderr",
     "output_type": "stream",
     "text": [
      " 12%|█▏        | 6/50 [00:10<01:16,  1.74s/it]"
     ]
    },
    {
     "name": "stdout",
     "output_type": "stream",
     "text": [
      "Epoch [6/50], Training Loss: 0.0354, Val Loss: 0.4161\n",
      "confusion matrix: {'TP': 95743, 'TN': 95094, 'FP': 1541, 'FN': 1128}\n"
     ]
    },
    {
     "name": "stderr",
     "output_type": "stream",
     "text": [
      " 14%|█▍        | 7/50 [00:12<01:15,  1.75s/it]"
     ]
    },
    {
     "name": "stdout",
     "output_type": "stream",
     "text": [
      "Epoch [7/50], Training Loss: 0.0352, Val Loss: 0.4128\n",
      "confusion matrix: {'TP': 96299, 'TN': 94872, 'FP': 1393, 'FN': 942}\n"
     ]
    },
    {
     "name": "stderr",
     "output_type": "stream",
     "text": [
      " 16%|█▌        | 8/50 [00:14<01:13,  1.76s/it]"
     ]
    },
    {
     "name": "stdout",
     "output_type": "stream",
     "text": [
      "Epoch [8/50], Training Loss: 0.0306, Val Loss: 0.4710\n",
      "confusion matrix: {'TP': 95886, 'TN': 95420, 'FP': 1268, 'FN': 932}\n"
     ]
    },
    {
     "name": "stderr",
     "output_type": "stream",
     "text": [
      " 18%|█▊        | 9/50 [00:15<01:12,  1.76s/it]"
     ]
    },
    {
     "name": "stdout",
     "output_type": "stream",
     "text": [
      "Epoch [9/50], Training Loss: 0.0287, Val Loss: 0.5842\n",
      "confusion matrix: {'TP': 95912, 'TN': 95481, 'FP': 1208, 'FN': 905}\n"
     ]
    },
    {
     "name": "stderr",
     "output_type": "stream",
     "text": [
      " 20%|██        | 10/50 [00:17<01:09,  1.74s/it]"
     ]
    },
    {
     "name": "stdout",
     "output_type": "stream",
     "text": [
      "Epoch [10/50], Training Loss: 0.0270, Val Loss: 0.4824\n",
      "confusion matrix: {'TP': 95659, 'TN': 95871, 'FP': 1129, 'FN': 847}\n"
     ]
    },
    {
     "name": "stderr",
     "output_type": "stream",
     "text": [
      " 22%|██▏       | 11/50 [00:19<01:07,  1.74s/it]"
     ]
    },
    {
     "name": "stdout",
     "output_type": "stream",
     "text": [
      "Epoch [11/50], Training Loss: 0.0253, Val Loss: 0.5760\n",
      "confusion matrix: {'TP': 95849, 'TN': 95821, 'FP': 1015, 'FN': 821}\n"
     ]
    },
    {
     "name": "stderr",
     "output_type": "stream",
     "text": [
      " 24%|██▍       | 12/50 [00:20<01:06,  1.74s/it]"
     ]
    },
    {
     "name": "stdout",
     "output_type": "stream",
     "text": [
      "Epoch [12/50], Training Loss: 0.0238, Val Loss: 0.4942\n",
      "confusion matrix: {'TP': 95594, 'TN': 96249, 'FP': 942, 'FN': 721}\n"
     ]
    },
    {
     "name": "stderr",
     "output_type": "stream",
     "text": [
      " 26%|██▌       | 13/50 [00:22<01:04,  1.75s/it]"
     ]
    },
    {
     "name": "stdout",
     "output_type": "stream",
     "text": [
      "Epoch [13/50], Training Loss: 0.0239, Val Loss: 0.4681\n",
      "confusion matrix: {'TP': 95893, 'TN': 95859, 'FP': 962, 'FN': 792}\n"
     ]
    },
    {
     "name": "stderr",
     "output_type": "stream",
     "text": [
      " 28%|██▊       | 14/50 [00:24<01:03,  1.75s/it]"
     ]
    },
    {
     "name": "stdout",
     "output_type": "stream",
     "text": [
      "Epoch [14/50], Training Loss: 0.0216, Val Loss: 0.5362\n",
      "confusion matrix: {'TP': 96206, 'TN': 95753, 'FP': 857, 'FN': 690}\n"
     ]
    },
    {
     "name": "stderr",
     "output_type": "stream",
     "text": [
      " 30%|███       | 15/50 [00:26<01:01,  1.75s/it]"
     ]
    },
    {
     "name": "stdout",
     "output_type": "stream",
     "text": [
      "Epoch [15/50], Training Loss: 0.0215, Val Loss: 0.4677\n",
      "confusion matrix: {'TP': 95665, 'TN': 96265, 'FP': 867, 'FN': 709}\n"
     ]
    },
    {
     "name": "stderr",
     "output_type": "stream",
     "text": [
      " 32%|███▏      | 16/50 [00:27<00:59,  1.74s/it]"
     ]
    },
    {
     "name": "stdout",
     "output_type": "stream",
     "text": [
      "Epoch [16/50], Training Loss: 0.0203, Val Loss: 0.5776\n",
      "confusion matrix: {'TP': 96086, 'TN': 95900, 'FP': 808, 'FN': 712}\n"
     ]
    },
    {
     "name": "stderr",
     "output_type": "stream",
     "text": [
      " 34%|███▍      | 17/50 [00:29<00:57,  1.73s/it]"
     ]
    },
    {
     "name": "stdout",
     "output_type": "stream",
     "text": [
      "Epoch [17/50], Training Loss: 0.0201, Val Loss: 0.6658\n",
      "confusion matrix: {'TP': 96029, 'TN': 95982, 'FP': 808, 'FN': 687}\n"
     ]
    },
    {
     "name": "stderr",
     "output_type": "stream",
     "text": [
      " 36%|███▌      | 18/50 [00:31<00:55,  1.74s/it]"
     ]
    },
    {
     "name": "stdout",
     "output_type": "stream",
     "text": [
      "Epoch [18/50], Training Loss: 0.0198, Val Loss: 0.6918\n",
      "confusion matrix: {'TP': 96333, 'TN': 95751, 'FP': 775, 'FN': 647}\n"
     ]
    },
    {
     "name": "stderr",
     "output_type": "stream",
     "text": [
      " 38%|███▊      | 19/50 [00:33<00:54,  1.74s/it]"
     ]
    },
    {
     "name": "stdout",
     "output_type": "stream",
     "text": [
      "Epoch [19/50], Training Loss: 0.0192, Val Loss: 0.5697\n",
      "confusion matrix: {'TP': 95863, 'TN': 96225, 'FP': 754, 'FN': 664}\n"
     ]
    },
    {
     "name": "stderr",
     "output_type": "stream",
     "text": [
      " 40%|████      | 20/50 [00:34<00:52,  1.74s/it]"
     ]
    },
    {
     "name": "stdout",
     "output_type": "stream",
     "text": [
      "Epoch [20/50], Training Loss: 0.0174, Val Loss: 0.7641\n",
      "confusion matrix: {'TP': 96045, 'TN': 96152, 'FP': 711, 'FN': 598}\n"
     ]
    },
    {
     "name": "stderr",
     "output_type": "stream",
     "text": [
      " 42%|████▏     | 21/50 [00:36<00:50,  1.73s/it]"
     ]
    },
    {
     "name": "stdout",
     "output_type": "stream",
     "text": [
      "Epoch [21/50], Training Loss: 0.0168, Val Loss: 0.6720\n",
      "confusion matrix: {'TP': 95954, 'TN': 96338, 'FP': 642, 'FN': 572}\n"
     ]
    },
    {
     "name": "stderr",
     "output_type": "stream",
     "text": [
      " 44%|████▍     | 22/50 [00:38<00:48,  1.72s/it]"
     ]
    },
    {
     "name": "stdout",
     "output_type": "stream",
     "text": [
      "Epoch [22/50], Training Loss: 0.0172, Val Loss: 0.8363\n",
      "confusion matrix: {'TP': 96109, 'TN': 96123, 'FP': 678, 'FN': 596}\n"
     ]
    },
    {
     "name": "stderr",
     "output_type": "stream",
     "text": [
      " 46%|████▌     | 23/50 [00:40<00:46,  1.73s/it]"
     ]
    },
    {
     "name": "stdout",
     "output_type": "stream",
     "text": [
      "Epoch [23/50], Training Loss: 0.0165, Val Loss: 0.7720\n",
      "confusion matrix: {'TP': 96194, 'TN': 96066, 'FP': 649, 'FN': 597}\n"
     ]
    },
    {
     "name": "stderr",
     "output_type": "stream",
     "text": [
      " 48%|████▊     | 24/50 [00:41<00:45,  1.74s/it]"
     ]
    },
    {
     "name": "stdout",
     "output_type": "stream",
     "text": [
      "Epoch [24/50], Training Loss: 0.0161, Val Loss: 0.8488\n",
      "confusion matrix: {'TP': 95985, 'TN': 96330, 'FP': 622, 'FN': 569}\n"
     ]
    },
    {
     "name": "stderr",
     "output_type": "stream",
     "text": [
      " 50%|█████     | 25/50 [00:43<00:43,  1.73s/it]"
     ]
    },
    {
     "name": "stdout",
     "output_type": "stream",
     "text": [
      "Epoch [25/50], Training Loss: 0.0160, Val Loss: 0.7181\n",
      "confusion matrix: {'TP': 96011, 'TN': 96297, 'FP': 632, 'FN': 566}\n"
     ]
    },
    {
     "name": "stderr",
     "output_type": "stream",
     "text": [
      " 52%|█████▏    | 26/50 [00:45<00:41,  1.74s/it]"
     ]
    },
    {
     "name": "stdout",
     "output_type": "stream",
     "text": [
      "Epoch [26/50], Training Loss: 0.0151, Val Loss: 0.7819\n",
      "confusion matrix: {'TP': 96353, 'TN': 96034, 'FP': 594, 'FN': 525}\n"
     ]
    },
    {
     "name": "stderr",
     "output_type": "stream",
     "text": [
      " 54%|█████▍    | 27/50 [00:46<00:39,  1.72s/it]"
     ]
    },
    {
     "name": "stdout",
     "output_type": "stream",
     "text": [
      "Epoch [27/50], Training Loss: 0.0145, Val Loss: 0.8578\n",
      "confusion matrix: {'TP': 96233, 'TN': 96183, 'FP': 568, 'FN': 522}\n"
     ]
    },
    {
     "name": "stderr",
     "output_type": "stream",
     "text": [
      " 56%|█████▌    | 28/50 [00:48<00:37,  1.72s/it]"
     ]
    },
    {
     "name": "stdout",
     "output_type": "stream",
     "text": [
      "Epoch [28/50], Training Loss: 0.0149, Val Loss: 0.8590\n",
      "confusion matrix: {'TP': 96384, 'TN': 96019, 'FP': 587, 'FN': 516}\n"
     ]
    },
    {
     "name": "stderr",
     "output_type": "stream",
     "text": [
      " 58%|█████▊    | 29/50 [00:50<00:36,  1.72s/it]"
     ]
    },
    {
     "name": "stdout",
     "output_type": "stream",
     "text": [
      "Epoch [29/50], Training Loss: 0.0146, Val Loss: 0.8234\n",
      "confusion matrix: {'TP': 96085, 'TN': 96290, 'FP': 586, 'FN': 545}\n"
     ]
    },
    {
     "name": "stderr",
     "output_type": "stream",
     "text": [
      " 60%|██████    | 30/50 [00:52<00:34,  1.73s/it]"
     ]
    },
    {
     "name": "stdout",
     "output_type": "stream",
     "text": [
      "Epoch [30/50], Training Loss: 0.0144, Val Loss: 0.8186\n",
      "confusion matrix: {'TP': 96281, 'TN': 96144, 'FP': 566, 'FN': 515}\n"
     ]
    },
    {
     "name": "stderr",
     "output_type": "stream",
     "text": [
      " 62%|██████▏   | 31/50 [00:53<00:33,  1.76s/it]"
     ]
    },
    {
     "name": "stdout",
     "output_type": "stream",
     "text": [
      "Epoch [31/50], Training Loss: 0.0146, Val Loss: 0.8460\n",
      "confusion matrix: {'TP': 96059, 'TN': 96399, 'FP': 571, 'FN': 477}\n"
     ]
    },
    {
     "name": "stderr",
     "output_type": "stream",
     "text": [
      " 64%|██████▍   | 32/50 [00:55<00:31,  1.76s/it]"
     ]
    },
    {
     "name": "stdout",
     "output_type": "stream",
     "text": [
      "Epoch [32/50], Training Loss: 0.0133, Val Loss: 0.8715\n",
      "confusion matrix: {'TP': 96751, 'TN': 95733, 'FP': 531, 'FN': 491}\n"
     ]
    },
    {
     "name": "stderr",
     "output_type": "stream",
     "text": [
      " 66%|██████▌   | 33/50 [00:57<00:29,  1.74s/it]"
     ]
    },
    {
     "name": "stdout",
     "output_type": "stream",
     "text": [
      "Epoch [33/50], Training Loss: 0.0134, Val Loss: 0.8796\n",
      "confusion matrix: {'TP': 96306, 'TN': 96159, 'FP': 536, 'FN': 505}\n"
     ]
    },
    {
     "name": "stderr",
     "output_type": "stream",
     "text": [
      " 68%|██████▊   | 34/50 [00:59<00:27,  1.73s/it]"
     ]
    },
    {
     "name": "stdout",
     "output_type": "stream",
     "text": [
      "Epoch [34/50], Training Loss: 0.0132, Val Loss: 0.8886\n",
      "confusion matrix: {'TP': 96253, 'TN': 96280, 'FP': 520, 'FN': 453}\n"
     ]
    },
    {
     "name": "stderr",
     "output_type": "stream",
     "text": [
      " 70%|███████   | 35/50 [01:00<00:25,  1.72s/it]"
     ]
    },
    {
     "name": "stdout",
     "output_type": "stream",
     "text": [
      "Epoch [35/50], Training Loss: 0.0135, Val Loss: 0.7988\n",
      "confusion matrix: {'TP': 95931, 'TN': 96569, 'FP': 523, 'FN': 483}\n"
     ]
    },
    {
     "name": "stderr",
     "output_type": "stream",
     "text": [
      " 72%|███████▏  | 36/50 [01:02<00:23,  1.71s/it]"
     ]
    },
    {
     "name": "stdout",
     "output_type": "stream",
     "text": [
      "Epoch [36/50], Training Loss: 0.0127, Val Loss: 0.9159\n",
      "confusion matrix: {'TP': 95941, 'TN': 96575, 'FP': 506, 'FN': 484}\n"
     ]
    },
    {
     "name": "stderr",
     "output_type": "stream",
     "text": [
      " 74%|███████▍  | 37/50 [01:04<00:22,  1.72s/it]"
     ]
    },
    {
     "name": "stdout",
     "output_type": "stream",
     "text": [
      "Epoch [37/50], Training Loss: 0.0123, Val Loss: 0.9368\n",
      "confusion matrix: {'TP': 96138, 'TN': 96434, 'FP': 488, 'FN': 446}\n"
     ]
    },
    {
     "name": "stderr",
     "output_type": "stream",
     "text": [
      " 76%|███████▌  | 38/50 [01:05<00:20,  1.72s/it]"
     ]
    },
    {
     "name": "stdout",
     "output_type": "stream",
     "text": [
      "Epoch [38/50], Training Loss: 0.0125, Val Loss: 1.0576\n",
      "confusion matrix: {'TP': 96101, 'TN': 96521, 'FP': 460, 'FN': 424}\n"
     ]
    },
    {
     "name": "stderr",
     "output_type": "stream",
     "text": [
      " 78%|███████▊  | 39/50 [01:07<00:19,  1.74s/it]"
     ]
    },
    {
     "name": "stdout",
     "output_type": "stream",
     "text": [
      "Epoch [39/50], Training Loss: 0.0122, Val Loss: 0.9578\n",
      "confusion matrix: {'TP': 96257, 'TN': 96327, 'FP': 479, 'FN': 443}\n"
     ]
    },
    {
     "name": "stderr",
     "output_type": "stream",
     "text": [
      " 80%|████████  | 40/50 [01:09<00:17,  1.73s/it]"
     ]
    },
    {
     "name": "stdout",
     "output_type": "stream",
     "text": [
      "Epoch [40/50], Training Loss: 0.0117, Val Loss: 0.7505\n",
      "confusion matrix: {'TP': 96412, 'TN': 96240, 'FP': 435, 'FN': 419}\n"
     ]
    },
    {
     "name": "stderr",
     "output_type": "stream",
     "text": [
      " 82%|████████▏ | 41/50 [01:11<00:15,  1.74s/it]"
     ]
    },
    {
     "name": "stdout",
     "output_type": "stream",
     "text": [
      "Epoch [41/50], Training Loss: 0.0118, Val Loss: 0.8827\n",
      "confusion matrix: {'TP': 96067, 'TN': 96529, 'FP': 448, 'FN': 462}\n"
     ]
    },
    {
     "name": "stderr",
     "output_type": "stream",
     "text": [
      " 84%|████████▍ | 42/50 [01:12<00:13,  1.74s/it]"
     ]
    },
    {
     "name": "stdout",
     "output_type": "stream",
     "text": [
      "Epoch [42/50], Training Loss: 0.0118, Val Loss: 0.8750\n",
      "confusion matrix: {'TP': 96119, 'TN': 96496, 'FP': 461, 'FN': 430}\n"
     ]
    },
    {
     "name": "stderr",
     "output_type": "stream",
     "text": [
      " 86%|████████▌ | 43/50 [01:14<00:12,  1.74s/it]"
     ]
    },
    {
     "name": "stdout",
     "output_type": "stream",
     "text": [
      "Epoch [43/50], Training Loss: 0.0117, Val Loss: 0.8829\n",
      "confusion matrix: {'TP': 96488, 'TN': 96125, 'FP': 461, 'FN': 432}\n"
     ]
    },
    {
     "name": "stderr",
     "output_type": "stream",
     "text": [
      " 88%|████████▊ | 44/50 [01:16<00:10,  1.74s/it]"
     ]
    },
    {
     "name": "stdout",
     "output_type": "stream",
     "text": [
      "Epoch [44/50], Training Loss: 0.0114, Val Loss: 1.0330\n",
      "confusion matrix: {'TP': 96364, 'TN': 96251, 'FP': 447, 'FN': 444}\n"
     ]
    },
    {
     "name": "stderr",
     "output_type": "stream",
     "text": [
      " 90%|█████████ | 45/50 [01:18<00:08,  1.74s/it]"
     ]
    },
    {
     "name": "stdout",
     "output_type": "stream",
     "text": [
      "Epoch [45/50], Training Loss: 0.0111, Val Loss: 1.0251\n",
      "confusion matrix: {'TP': 95891, 'TN': 96780, 'FP': 425, 'FN': 410}\n"
     ]
    },
    {
     "name": "stderr",
     "output_type": "stream",
     "text": [
      " 92%|█████████▏| 46/50 [01:19<00:06,  1.75s/it]"
     ]
    },
    {
     "name": "stdout",
     "output_type": "stream",
     "text": [
      "Epoch [46/50], Training Loss: 0.0106, Val Loss: 1.0860\n",
      "confusion matrix: {'TP': 96576, 'TN': 96097, 'FP': 414, 'FN': 419}\n"
     ]
    },
    {
     "name": "stderr",
     "output_type": "stream",
     "text": [
      " 94%|█████████▍| 47/50 [01:21<00:05,  1.73s/it]"
     ]
    },
    {
     "name": "stdout",
     "output_type": "stream",
     "text": [
      "Epoch [47/50], Training Loss: 0.0104, Val Loss: 1.0391\n",
      "confusion matrix: {'TP': 96003, 'TN': 96692, 'FP': 419, 'FN': 392}\n"
     ]
    },
    {
     "name": "stderr",
     "output_type": "stream",
     "text": [
      " 96%|█████████▌| 48/50 [01:23<00:03,  1.72s/it]"
     ]
    },
    {
     "name": "stdout",
     "output_type": "stream",
     "text": [
      "Epoch [48/50], Training Loss: 0.0105, Val Loss: 1.1038\n",
      "confusion matrix: {'TP': 96266, 'TN': 96471, 'FP': 394, 'FN': 375}\n"
     ]
    },
    {
     "name": "stderr",
     "output_type": "stream",
     "text": [
      " 98%|█████████▊| 49/50 [01:25<00:01,  1.73s/it]"
     ]
    },
    {
     "name": "stdout",
     "output_type": "stream",
     "text": [
      "Epoch [49/50], Training Loss: 0.0109, Val Loss: 0.9149\n",
      "confusion matrix: {'TP': 95946, 'TN': 96703, 'FP': 433, 'FN': 424}\n"
     ]
    },
    {
     "name": "stderr",
     "output_type": "stream",
     "text": [
      "100%|██████████| 50/50 [01:26<00:00,  1.74s/it]\n"
     ]
    },
    {
     "name": "stdout",
     "output_type": "stream",
     "text": [
      "Epoch [50/50], Training Loss: 0.0098, Val Loss: 1.0945\n",
      "confusion matrix: {'TP': 96156, 'TN': 96580, 'FP': 373, 'FN': 397}\n",
      "Training complete.\n"
     ]
    },
    {
     "name": "stderr",
     "output_type": "stream",
     "text": [
      "100%|██████████| 5000/5000 [00:23<00:00, 214.64it/s]"
     ]
    },
    {
     "name": "stdout",
     "output_type": "stream",
     "text": [
      " the utility achieved is: -2924.5944444444444\n"
     ]
    },
    {
     "name": "stderr",
     "output_type": "stream",
     "text": [
      "\n"
     ]
    }
   ],
   "source": [
    "from model import EnhancedMLP\n",
    "\n",
    "from loss import CustomBCELoss\n",
    "\n",
    "my_model = NeuralNetModel()\n",
    "device = 'cuda'\n",
    "my_model.fit(\n",
    "    # train_data = imputed_datasets['train'],\n",
    "    # val_data = imputed_datasets['val'],\n",
    "    data = imputed_datasets,\n",
    "    config = {\n",
    "    'classifer':EnhancedMLP,\n",
    "    'lr':1e-3, \n",
    "    'criteria':CustomBCELoss(scale_factor=0.5), \n",
    "    'n_epoch':50,\n",
    "    'batch_size':32,\n",
    "    'device':device,\n",
    "    'class_balanced':True,\n",
    "    })\n",
    "\n",
    "utility_fn = UtilityFunction()\n",
    "simulator_test = RealOutcomesSimulator(imputed_datasets['train'], utility_fn)\n",
    "# print(f\"\\nSimulating the hospitalization of patients in the test dataset with decisions made by your model, the utility achieved is: {simulator_test.compute_utility(my_model)}\")\n",
    "utility = simulator_test.compute_utility(my_model)\n",
    "print(f\" the utility achieved is: {utility['u_total']}\")\n"
   ]
  }
 ],
 "metadata": {
  "kernelspec": {
   "display_name": "found4useg",
   "language": "python",
   "name": "python3"
  },
  "language_info": {
   "codemirror_mode": {
    "name": "ipython",
    "version": 3
   },
   "file_extension": ".py",
   "mimetype": "text/x-python",
   "name": "python",
   "nbconvert_exporter": "python",
   "pygments_lexer": "ipython3",
   "version": "3.11.10"
  }
 },
 "nbformat": 4,
 "nbformat_minor": 2
}
